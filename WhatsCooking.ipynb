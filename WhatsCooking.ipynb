{
 "cells": [
  {
   "cell_type": "code",
   "execution_count": 40,
   "metadata": {
    "collapsed": true
   },
   "outputs": [],
   "source": [
    "import json  # For importing json files\n",
    "import numpy as np\n",
    "import re # For regular expression filtering of categories"
   ]
  },
  {
   "cell_type": "code",
   "execution_count": 23,
   "metadata": {
    "collapsed": true
   },
   "outputs": [],
   "source": [
    "# Open up a file-handle for the text json file train_data.json\n",
    "trainfh = open(\"train.json\")\n",
    "train_list = json.load(fp=trainfh)\n",
    "testfh = open(\"test.json\")\n",
    "test_list = json.load(fp=testfh)"
   ]
  },
  {
   "cell_type": "code",
   "execution_count": 27,
   "metadata": {
    "collapsed": false
   },
   "outputs": [
    {
     "name": "stdout",
     "output_type": "stream",
     "text": [
      "[u'cuisine', u'id', u'ingredients']\n",
      "(39774,)\n",
      "greek\n",
      "(9944,)\n",
      "[u'id', u'ingredients']\n"
     ]
    }
   ],
   "source": [
    "# Note that 3 dictionaries are created:  'cuisine', 'id', and 'ingredients'\n",
    "print train_list[0].keys()\n",
    "# Extract the training features (ingredients) for each id\n",
    "train_data=np.asarray([train_row['ingredients'] for train_row in train_list])\n",
    "print train_data.shape\n",
    "# Extract training labels (type of cuisine) for each id\n",
    "train_labels=np.asarray([train_row['cuisine'] for train_row in train_list])\n",
    "print train_labels[0]\n",
    "\n",
    "# Create features, labels for test_data\n",
    "test_data = np.asarray([test_row['ingredients'] for test_row in test_list])\n",
    "print test_data.shape\n",
    "# Note that test data has no 'cuisine' (no labels...)\n",
    "print test_list[0].keys()"
   ]
  },
  {
   "cell_type": "code",
   "execution_count": 28,
   "metadata": {
    "collapsed": false
   },
   "outputs": [
    {
     "name": "stdout",
     "output_type": "stream",
     "text": [
      "[ [u'romaine lettuce', u'black olives', u'grape tomatoes', u'garlic', u'pepper', u'purple onion', u'seasoning', u'garbanzo beans', u'feta cheese crumbles']\n",
      " [u'plain flour', u'ground pepper', u'salt', u'tomatoes', u'ground black pepper', u'thyme', u'eggs', u'green tomatoes', u'yellow corn meal', u'milk', u'vegetable oil']\n",
      " [u'eggs', u'pepper', u'salt', u'mayonaise', u'cooking oil', u'green chilies', u'grilled chicken breasts', u'garlic powder', u'yellow onion', u'soy sauce', u'butter', u'chicken livers']\n",
      " ...,\n",
      " [u'eggs', u'citrus fruit', u'raisins', u'sourdough starter', u'flour', u'hot tea', u'sugar', u'ground nutmeg', u'salt', u'ground cinnamon', u'milk', u'butter']\n",
      " [u'boneless chicken skinless thigh', u'minced garlic', u'steamed white rice', u'baking powder', u'corn starch', u'dark soy sauce', u'kosher salt', u'peanuts', u'flour', u'scallions', u'Chinese rice vinegar', u'vodka', u'fresh ginger', u'egg whites', u'broccoli', u'toasted sesame seeds', u'sugar', u'store bought low sodium chicken stock', u'baking soda', u'Shaoxing wine', u'oil']\n",
      " [u'green chile', u'jalapeno chilies', u'onions', u'ground black pepper', u'salt', u'chopped cilantro fresh', u'green bell pepper', u'garlic', u'white sugar', u'roma tomatoes', u'celery', u'dried oregano']]\n"
     ]
    }
   ],
   "source": [
    "print train_data"
   ]
  },
  {
   "cell_type": "code",
   "execution_count": 52,
   "metadata": {
    "collapsed": false
   },
   "outputs": [
    {
     "name": "stdout",
     "output_type": "stream",
     "text": [
      "6708\n"
     ]
    }
   ],
   "source": [
    "# Construct a set of all ingredients\n",
    "blah=set()\n",
    "for whoa in train_data:\n",
    "    for element in whoa:\n",
    "        # Filter out \\( <portion> \\) field from ingredients\n",
    "        element=re.sub('\\(.+\\)\\s*(.+)$','\\1',element)\n",
    "        blah.add(element)\n",
    "print len(blah)\n"
   ]
  },
  {
   "cell_type": "code",
   "execution_count": 42,
   "metadata": {
    "collapsed": false
   },
   "outputs": [],
   "source": [
    "re.sub?"
   ]
  },
  {
   "cell_type": "code",
   "execution_count": null,
   "metadata": {
    "collapsed": true
   },
   "outputs": [],
   "source": []
  }
 ],
 "metadata": {
  "kernelspec": {
   "display_name": "Python 2",
   "language": "python",
   "name": "python2"
  },
  "language_info": {
   "codemirror_mode": {
    "name": "ipython",
    "version": 2
   },
   "file_extension": ".py",
   "mimetype": "text/x-python",
   "name": "python",
   "nbconvert_exporter": "python",
   "pygments_lexer": "ipython2",
   "version": "2.7.10"
  }
 },
 "nbformat": 4,
 "nbformat_minor": 0
}
