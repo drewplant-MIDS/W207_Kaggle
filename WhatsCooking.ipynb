{
 "cells": [
  {
   "cell_type": "code",
   "execution_count": 63,
   "metadata": {
    "collapsed": true
   },
   "outputs": [],
   "source": [
    "import json  # For importing json files\n",
    "import numpy as np\n",
    "import re # For regular expression filtering of categories\n",
    "import matplotlib.pyplot as plt\n",
    "\n",
    "# SK-learn libraries for feature extraction from text.\n",
    "\n",
    "from sklearn.feature_extraction.text import CountVectorizer\n",
    "from sklearn.feature_extraction.text import TfidfTransformer  # If we wanted to use TfIdf...probably not necessary though\n",
    "from sklearn.naive_bayes import MultinomialNB"
   ]
  },
  {
   "cell_type": "code",
   "execution_count": 3,
   "metadata": {
    "collapsed": true
   },
   "outputs": [],
   "source": [
    "# Open up a file-handle for the text json file train_data.json\n",
    "trainfh = open(\"train.json\")\n",
    "train_list = json.load(fp=trainfh)\n",
    "testfh = open(\"test.json\")\n",
    "test_list = json.load(fp=testfh)\n"
   ]
  },
  {
   "cell_type": "code",
   "execution_count": 58,
   "metadata": {
    "collapsed": false
   },
   "outputs": [
    {
     "name": "stdout",
     "output_type": "stream",
     "text": [
      "Number of training records: 39774\n",
      "Training data keys:  [u'cuisine', u'id', u'ingredients']\n",
      "Number of distinct cuisines is 20\n",
      "SpringOnions SaltedPeanuts Coriander LimeJuice RiceNoodles ChiliSauce FishSauce MuscovadoSugar CayennePepper TigerPrawn Lime VegetableOil Beansprouts\n",
      "thai\n",
      "Number of test records: 9944\n",
      "Test data keys:  [u'id', u'ingredients']\n"
     ]
    }
   ],
   "source": [
    "# Extract the training features (ingredients) for each id\n",
    "XIngredients=np.asarray([train_row['ingredients'] for train_row in train_list])\n",
    "print \"Number of training records: %d\"  %(XIngredients.shape)\n",
    "# Note that 3 dictionaries are Extracted per line:  'cuisine', 'id', and 'ingredients'\n",
    "print 'Training data keys:  %s' %train_list[0].keys()\n",
    "# Extract training labels (type of cuisine) for each id\n",
    "YCuisine=np.asarray([train_row['cuisine'] for train_row in train_list])\n",
    "# Extract unique Cuisine categories from the train_list \n",
    "CuisineSet = set()\n",
    "for i in range(YCuisine.shape[0]):\n",
    "    CuisineSet.add(YCuisine[i])\n",
    "# Transform CuisineCategories to a dictionary to convert cuisine labels to numeric values\n",
    "CuisineList = [Cuisine for Cuisine in CuisineSet]\n",
    "CuisineDict = {CuisineList[i]:i for i in range(len(CuisineList))}\n",
    "print \"Number of distinct cuisines is %d\" %len(CuisineDict.keys())\n",
    "\n",
    "\n",
    "\n",
    "\n",
    "# Shuffle training data and labels; \n",
    "shuffle = np.random.permutation(np.arange(NewX.shape[0]))\n",
    "XIngredients, YCuisine = XIngredients[shuffle], YCuisine[shuffle]\n",
    "# Convert YCuisine (text list) to numeric values based on CuisineDict\n",
    "YNum = [CuisineDict[Key] for Key in YCuisine]\n",
    "\n",
    "\n",
    "# Function to convert records of lists of lower-case ingredient elements into records of space-separated CamelCase ingredients\n",
    "def CamelizeRecords(Records):\n",
    "    NewX = [] # New record array\n",
    "    for IngredientList in Records:\n",
    "        IngredientCamelList=[] # Will store CamelCase list of ingredients for this record\n",
    "        for Element in IngredientList: # Element is a single string possibly multi-word ingredient within this record\n",
    "            WordList = []\n",
    "            for Word in Element.split():\n",
    "                Word = Word.capitalize()\n",
    "                WordList.append(Word)\n",
    "            # Finally, collapse all words in ElementList\n",
    "            CamelWord = ''.join(WordList) # join Element words into single CamelCase word\n",
    "            IngredientCamelList.append(CamelWord) # Add CamelWord to this record ingredient list\n",
    "        NewX.append(' '.join(IngredientCamelList)) # Append single text field of CamelCase ingredients as new record\n",
    "    return np.asarray(NewX)\n",
    "\n",
    "# Reformat training data into CamelCase\n",
    "TrainX = CamelizeRecords(XIngredients)\n",
    "\n",
    "# Separate out training data/labels into 33000 training and 6774 \"hold-out\" dev data/labels\n",
    "train_data, train_classes = TrainX[:33000], YNum[:33000]\n",
    "dev_data, dev_classes = TrainX[33001:], YNum[33001:]\n",
    "\n",
    "print train_data[1]\n",
    "print CuisineList[YNum[1]]\n",
    " \n",
    "    \n",
    "    \n",
    "\n",
    "# Create features, labels for test_data\n",
    "XTestIngredients = np.asarray([test_row['ingredients'] for test_row in test_list])\n",
    "print \"Number of test records: %d\" %XTestIngredients.shape\n",
    "# Note that test data has no 'cuisine' (no labels...)\n",
    "print  'Test data keys:  %s' %test_list[0].keys()\n",
    "# Convert test data to CamelCase text strings as was done for training data above\n",
    "test_data = CamelizeRecords(XTestIngredients)\n"
   ]
  },
  {
   "cell_type": "code",
   "execution_count": 64,
   "metadata": {
    "collapsed": false
   },
   "outputs": [
    {
     "name": "stdout",
     "output_type": "stream",
     "text": [
      "Multinomial Naive Bayes shows a prediction accuracy of 0.737339\n"
     ]
    }
   ],
   "source": [
    "# Create a VectorizedFeature Object\n",
    "CountVec = CountVectorizer()\n",
    "FitTransformTrain = CountVec.fit_transform(train_data)\n",
    "# Try Multinomial Naive Bayes first\n",
    "ClfMNB = MultinomialNB().fit(FitTransformTrain,train_classes)\n",
    "# Predict Cuisine in the dev data set\n",
    "#   Transform the dev data using the feature extractor from the train_data\n",
    "TransformedDev = CountVec.transform(dev_data)\n",
    "predicted = ClfMNB.predict(TransformedDev)\n",
    "# Calculate accuracy of predictions on dev data\n",
    "print \"Multinomial Naive Bayes shows a prediction accuracy of %f\" %(np.mean(predicted == dev_classes))"
   ]
  },
  {
   "cell_type": "code",
   "execution_count": null,
   "metadata": {
    "collapsed": true
   },
   "outputs": [],
   "source": []
  }
 ],
 "metadata": {
  "kernelspec": {
   "display_name": "Python 2",
   "language": "python",
   "name": "python2"
  },
  "language_info": {
   "codemirror_mode": {
    "name": "ipython",
    "version": 2
   },
   "file_extension": ".py",
   "mimetype": "text/x-python",
   "name": "python",
   "nbconvert_exporter": "python",
   "pygments_lexer": "ipython2",
   "version": "2.7.10"
  }
 },
 "nbformat": 4,
 "nbformat_minor": 0
}
